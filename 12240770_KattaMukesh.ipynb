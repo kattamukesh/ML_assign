{
  "nbformat": 4,
  "nbformat_minor": 0,
  "metadata": {
    "colab": {
      "provenance": []
    },
    "kernelspec": {
      "name": "python3",
      "display_name": "Python 3"
    },
    "language_info": {
      "name": "python"
    }
  },
  "cells": [
    {
      "cell_type": "code",
      "source": [
        "import pandas as pd\n",
        "from sklearn.preprocessing import MinMaxScaler\n",
        "\n",
        "# Load the dataset\n",
        "df = pd.read_csv('/content/WineQT.csv')\n",
        "\n",
        "# Convert quality attribute\n",
        "df['quality'] = df['quality'].apply(lambda x: 1 if x > 6 else 0)\n",
        "\n",
        "# Define the feature columns (excluding the 'quality' column)\n",
        "features = df.columns[df.columns != 'quality']\n",
        "\n",
        "# Apply Min-Max Scaling\n",
        "scaler = MinMaxScaler()\n",
        "df[features] = scaler.fit_transform(df[features])\n",
        "\n",
        "# Save the processed data to a new CSV file\n",
        "df.to_csv('/content/process.csv', index=False)\n"
      ],
      "metadata": {
        "id": "5q9gfqu4xLJb"
      },
      "execution_count": 6,
      "outputs": []
    }
  ]
}